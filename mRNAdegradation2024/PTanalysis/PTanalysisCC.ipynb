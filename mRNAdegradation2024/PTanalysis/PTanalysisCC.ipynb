{
 "cells": [
  {
   "cell_type": "code",
   "execution_count": 14,
   "id": "8d7dffa5-243f-42f3-8a02-6fd8a3c08801",
   "metadata": {
    "tags": []
   },
   "outputs": [
    {
     "data": {
      "text/plain": [
       "y1    0.057426\n",
       "z1    0.685373\n",
       "y2   -0.001357\n",
       "z2   -0.757062\n",
       "dtype: float64"
      ]
     },
     "execution_count": 14,
     "metadata": {},
     "output_type": "execute_result"
    }
   ],
   "source": [
    "# This code is to calculate kdPT (y) and PT (z) for C. crescentus based on eq (s44) and (s45) in the supplementary text.\n",
    "\n",
    "import numpy as np\n",
    "import pandas as pd\n",
    "\n",
    "# x grid\n",
    "x_std, x_mean = 0.001554, 0.011753 #experimentally measured kd1* mean and std in sec-1\n",
    "grid = np.random.normal(x_mean, x_std, size=1000)\n",
    "\n",
    "# constants, set up std and mean here for a,b,t,l\n",
    "a_std, a_mean = 0.08, 0.16     # (N5-N3)/N5 measured from steady-state Z5 and Z3 levels +/- 0.08 \n",
    "b_std, b_mean = 0.00217, 0.021 # kd1, measured from rif experiment (-BCM). 1.28/60 +/-0.13/60 (in sec-1)\n",
    "t_std, t_mean = 8, 69          # tau or transcription time/2 (in sec) transcription time = 2.3 ± 0.27 min\n",
    "l_std, l_mean = 7, 158         # 1/kd2 of Z3 (in sec)  kd2= 0.38 +/ 0.0374 min-1 \n",
    "\n",
    "# number of simulations\n",
    "N = 1000\n",
    "\n",
    "def solution(a, b, t, l, iteration_num):\n",
    "    def u(x):\n",
    "        return np.exp(-x * t)\n",
    "   \n",
    "    A = a - 1\n",
    "    L = lambda x: A * (1 - u(x)**2) + l * x\n",
    "    M = lambda x: A * u(x) * (1-u(x)) + l * x\n",
    "    N = lambda x: A * x * u(x)\n",
    "   \n",
    "    K = lambda x: (M(x) * x - N(x) * u(x)) / L(x) / u(x)\n",
    "    J = lambda x: - M(x) * (x - b) / L(x) / u(x)\n",
    "   \n",
    "    P = lambda x: u(x) * K(x)\n",
    "    Q = lambda x: u(x) * J(x) - x\n",
    "    R = lambda x: x - b\n",
    "   \n",
    "    D = lambda x: Q(x)**2 - 4 * P(x) * R(x)\n",
    "   \n",
    "    z1 = lambda x: (-Q(x) + np.sqrt(D(x))) / 2 / P(x)\n",
    "    z2 = lambda x: (-Q(x) - np.sqrt(D(x))) / 2 / P(x)\n",
    "   \n",
    "    y1 = lambda x: K(x) * z1(x) + J(x)\n",
    "    y2 = lambda x: K(x) * z2(x) + J(x)\n",
    "   \n",
    "   \n",
    "    df = pd.DataFrame([grid, [y1(x) for x in grid], [z1(x) for x in grid], [y2(x) for x in grid], [z2(x) for x in grid]], index=['x', 'y1', 'z1', 'y2', 'z2']).T\n",
    "    df.loc[:, 'experiment'] = iteration_num\n",
    "    return df\n",
    "\n",
    "def sample():\n",
    "    return np.random.normal(a_mean, a_std), np.random.normal(b_mean, b_std), np.random.normal(t_mean, t_std), np.random.normal(l_mean, l_std)\n",
    "\n",
    "# run simulation\n",
    "np.random.seed(1234)\n",
    "constants = [sample() for _ in range(N)]\n",
    "\n",
    "res = []\n",
    "for i, c in enumerate(constants):\n",
    "    a, b, t, l = c\n",
    "    res.append(solution(a, b, t, l, i))\n",
    "res_df = pd.concat(res)\n",
    "\n",
    "# statistics\n",
    "# we get two (y,z) pair for each x, but one pair is negative and not biologically relevant.\n",
    "res_df[['y1', 'z1', 'y2', 'z2']].mean()\n"
   ]
  },
  {
   "cell_type": "code",
   "execution_count": 15,
   "id": "36af82b4-b1a8-4722-b9f6-b90f48c405c6",
   "metadata": {
    "tags": []
   },
   "outputs": [
    {
     "data": {
      "text/plain": [
       "y1    0.010176\n",
       "z1    0.044162\n",
       "y2    0.000476\n",
       "z2    0.277543\n",
       "dtype: float64"
      ]
     },
     "execution_count": 15,
     "metadata": {},
     "output_type": "execute_result"
    }
   ],
   "source": [
    "res_df[['y1', 'z1', 'y2', 'z2']].std()"
   ]
  },
  {
   "cell_type": "code",
   "execution_count": null,
   "id": "0336854d-3287-43fb-99a4-bdc5b1277643",
   "metadata": {},
   "outputs": [],
   "source": []
  }
 ],
 "metadata": {
  "kernelspec": {
   "display_name": "Python 3 (ipykernel)",
   "language": "python",
   "name": "python3"
  },
  "language_info": {
   "codemirror_mode": {
    "name": "ipython",
    "version": 3
   },
   "file_extension": ".py",
   "mimetype": "text/x-python",
   "name": "python",
   "nbconvert_exporter": "python",
   "pygments_lexer": "ipython3",
   "version": "3.11.5"
  }
 },
 "nbformat": 4,
 "nbformat_minor": 5
}
